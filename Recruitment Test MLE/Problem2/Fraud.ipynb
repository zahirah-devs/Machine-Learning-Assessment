{
 "cells": [
  {
   "cell_type": "code",
   "execution_count": 1,
   "id": "ed942107-3739-4478-b78d-81cb6714efcb",
   "metadata": {},
   "outputs": [],
   "source": [
    "import pandas as pd\n",
    "import numpy as np"
   ]
  },
  {
   "cell_type": "code",
   "execution_count": 2,
   "id": "fb71a0b4-7a3e-49c8-8214-b9a70fc734a7",
   "metadata": {},
   "outputs": [],
   "source": [
    "df = pd.read_csv('data/P2-input1.csv')\n",
    "df2 = pd.read_csv('data/P2-input2.csv')"
   ]
  },
  {
   "cell_type": "code",
   "execution_count": 3,
   "id": "c89c5aa2-2047-49e4-8a75-55d4f1a6b42e",
   "metadata": {},
   "outputs": [],
   "source": [
    "# assumming d and n will always be on the end \n",
    "columnArray1 = df.columns.values[0].split(\" \");\n",
    "columnArray2 = df2.columns.values[0].split(\" \");"
   ]
  },
  {
   "cell_type": "code",
   "execution_count": 4,
   "id": "7738859e-50e1-4cfc-9a57-b8ab219d4520",
   "metadata": {},
   "outputs": [],
   "source": [
    "d = int(columnArray1[5])\n",
    "n = int(columnArray1[8])\n",
    "d2 = int(columnArray2[5])\n",
    "n2 = int(columnArray2[8])"
   ]
  },
  {
   "cell_type": "code",
   "execution_count": 5,
   "id": "efbcda58-c475-49b7-8358-8a66c6815394",
   "metadata": {},
   "outputs": [],
   "source": [
    "dataset = df.values.tolist()[0][0].split(\" \")\n",
    "dataset = list(map(int,dataset))\n",
    "dataset2 = df2.values.tolist()[0][0].split(\" \")\n",
    "dataset2 = list(map(int,dataset2))"
   ]
  },
  {
   "cell_type": "code",
   "execution_count": 6,
   "id": "40da33e2-1c46-4302-9eb8-2724bc01592f",
   "metadata": {},
   "outputs": [],
   "source": [
    "def fraud_detection(dataset:list, d:int, n:int):\n",
    "    number_of_notices = 0\n",
    "    df = pd.DataFrame({'transactions': dataset})\n",
    "    #get the rolling median but pull the list to only extract medians with in the bounds of d as previous wont have \n",
    "    #sufficient data to perform calculation\n",
    "    rolling_median = df['transactions'].rolling(window=d).median()[d-1:].tolist()\n",
    "    for i in range(d, n):\n",
    "        if dataset[i] >= 2 * rolling_median[i - d]:\n",
    "            number_of_notices += 1\n",
    "    return number_of_notices\n",
    "\n",
    "\n"
   ]
  },
  {
   "cell_type": "code",
   "execution_count": 7,
   "id": "196136f8-70c7-4f9a-80d9-e51271827068",
   "metadata": {},
   "outputs": [
    {
     "name": "stdout",
     "output_type": "stream",
     "text": [
      "Alert! Please note that we have detected possible fraud based on your transaction history these are the amount of alerts detected :  633 please call our helpline for further assistance\n"
     ]
    }
   ],
   "source": [
    "print('Alert Customer1! Please note that we have detected possible fraud based on your transaction history these are the amount of alerts detected : ',str(fraud_detection(dataset,d,n))+' please call our helpline for further assistance')  "
   ]
  },
  {
   "cell_type": "code",
   "execution_count": 8,
   "id": "146f78d4-199f-4aa9-881d-c777cfb28a3e",
   "metadata": {},
   "outputs": [
    {
     "name": "stdout",
     "output_type": "stream",
     "text": [
      "Alert! Please note that we have detected possible fraud based on your transaction history these are the amount of alerts detected :  770 please call our helpline for further assistance\n"
     ]
    }
   ],
   "source": [
    "print('Alert Customer2! Please note that we have detected possible fraud based on your transaction history these are the amount of alerts detected : ',str(fraud_detection(dataset2,d2,n2)) + ' please call our helpline for further assistance')"
   ]
  }
 ],
 "metadata": {
  "kernelspec": {
   "display_name": "Python 3 (ipykernel)",
   "language": "python",
   "name": "python3"
  },
  "language_info": {
   "codemirror_mode": {
    "name": "ipython",
    "version": 3
   },
   "file_extension": ".py",
   "mimetype": "text/x-python",
   "name": "python",
   "nbconvert_exporter": "python",
   "pygments_lexer": "ipython3",
   "version": "3.8.16"
  }
 },
 "nbformat": 4,
 "nbformat_minor": 5
}
